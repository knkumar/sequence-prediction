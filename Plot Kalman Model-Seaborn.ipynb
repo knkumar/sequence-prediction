{
 "cells": [
  {
   "cell_type": "code",
   "execution_count": 38,
   "metadata": {
    "collapsed": true
   },
   "outputs": [],
   "source": [
    "import numpy as np\n",
    "import seaborn as sns\n",
    "import bokeh\n",
    "import pandas as pd\n",
    "import matplotlib.pyplot as plt"
   ]
  },
  {
   "cell_type": "code",
   "execution_count": null,
   "metadata": {},
   "outputs": [],
   "source": [
    "data = pd.read_csv('~/projects/Kalman/dataToFit.csv', names=['X','Y','Xvel','Yvel'])\n",
    "fit = pd.read_csv('~/projects/Kalman/fitsFromModel.csv', names=['X','Y','Xvel','Yvel'])\n",
    "\n",
    "idx = [x for x in range(23500,23900)]\n",
    "x1 = data.iloc[idx,0:2]\n",
    "x1_fit = fit.iloc[idx,0:2]\n",
    "y1 = data.iloc[idx,1]\n",
    "y1_fit = fit.iloc[idx,1]\n",
    "\n",
    "fig = plt.figure(figsize=(10,6))\n",
    "sns.set_style(\"darkgrid\")\n",
    "\n",
    "sns.regplot('X','Y',data=x1, color=\"skyblue\", fit_reg=False, scatter_kws={'alpha':0.4} ,label=\"Data\")\n",
    "sns.regplot('X','Y',data=x1_fit, color=\"lightcoral\", fit_reg=False, scatter_kws={'alpha':0.4}, label=\"Fits\")\n",
    "plt.legend(['Data','Fits'], ncol=1, loc='upper right');\n",
    "#fig.legend(labels=['Data','Fits'])\n",
    "plt.show()"
   ]
  },
  {
   "cell_type": "code",
   "execution_count": null,
   "metadata": {
    "scrolled": true
   },
   "outputs": [],
   "source": [
    "diff_fit = x1_fit-x1\n",
    "\n",
    "fig = plt.figure(figsize=(10,6))\n",
    "sns.set_style(\"darkgrid\")\n",
    "\n",
    "#sns.pointplot(x=idx,y=diff_fit.iloc[:,0], markers='.', size=0.02)\n",
    "plt.plot(idx,diff_fit.iloc[:,0], color='lightcoral', alpha=0.8, linewidth=0.8)\n",
    "plt.show()"
   ]
  },
  {
   "cell_type": "raw",
   "metadata": {
    "collapsed": true
   },
   "source": [
    "evidence = pd.read_csv('~/projects/Kalman/evidenceFromModel.csv')\n",
    "\n",
    "output_notebook()\n",
    "idx2 = [x for x in range(0,2000)]\n",
    "p1 = figure(title=\"Model predictions evidence X\")\n",
    "p1.line(idx2, evidence.iloc[idx2,0], color=color2, alpha=0.4)\n",
    "p2 = figure(title=\"Model predictions evidence Y\")\n",
    "#p2.line([idx2,idx2],[evidence.iloc[idx2,0], evidence.iloc[idx2,1]], color=[color2,color2], alpha=[0.4,0.4])\n",
    "show(p1)"
   ]
  },
  {
   "cell_type": "code",
   "execution_count": null,
   "metadata": {
    "collapsed": true
   },
   "outputs": [],
   "source": [
    "output_notebook()\n",
    "p = figure(title=\"Model predictions v/s data - differences in X\")\n",
    "p.line(range(data.shape[0]), data.iloc[:-1,0]-fit.iloc[1:,0], alpha=0.3)\n",
    "p1 = figure(title=\"Model predictions v/s data - differences in Y\")\n",
    "p1.line(range(data.shape[0]), data.iloc[:,1]-fit.iloc[:,1], alpha=0.3)\n",
    "p2 = figure(title=\"Model predictions v/s data - differences in Xvel\")\n",
    "p2.line(range(data.shape[0]), data.iloc[:,2]-fit.iloc[:,2], alpha=0.3)\n",
    "\n",
    "show(column(p,p1,p2))\n"
   ]
  },
  {
   "cell_type": "code",
   "execution_count": null,
   "metadata": {
    "collapsed": true
   },
   "outputs": [],
   "source": [
    "No acceleration, zero velocity, transitions\n",
    "\n",
    "if second derivate gets better"
   ]
  },
  {
   "cell_type": "code",
   "execution_count": null,
   "metadata": {
    "collapsed": true
   },
   "outputs": [],
   "source": []
  }
 ],
 "metadata": {
  "kernelspec": {
   "display_name": "Python 3",
   "language": "python",
   "name": "python3"
  },
  "language_info": {
   "codemirror_mode": {
    "name": "ipython",
    "version": 3
   },
   "file_extension": ".py",
   "mimetype": "text/x-python",
   "name": "python",
   "nbconvert_exporter": "python",
   "pygments_lexer": "ipython3",
   "version": "3.6.4"
  }
 },
 "nbformat": 4,
 "nbformat_minor": 2
}
